{
 "cells": [
  {
   "cell_type": "markdown",
   "id": "32d257ca-68ad-4c77-97fb-657b7a2e6b31",
   "metadata": {},
   "source": [
    "### Import necessary packages"
   ]
  },
  {
   "cell_type": "code",
   "execution_count": null,
   "id": "af66ab97-0256-4ae7-b2db-1016cbb6edd5",
   "metadata": {},
   "outputs": [],
   "source": [
    "import numpy as np\n",
    "import pandas as pd\n",
    "import seaborn as sns\n",
    "import matplotlib.pyplot as plt\n",
    "from pathlib import Path\n",
    "import plotly.express as px"
   ]
  },
  {
   "cell_type": "markdown",
   "id": "af7c144c-74ab-4258-be13-946423ca9689",
   "metadata": {},
   "source": [
    "### Load data to DataFrame called master"
   ]
  },
  {
   "cell_type": "code",
   "execution_count": null,
   "id": "2a977651-cf8d-4257-9cfb-7673542d8230",
   "metadata": {},
   "outputs": [],
   "source": [
    "master = pd.read_parquet(\"../results/processed/master_clean.parquet\")\n",
    "master.drop(columns = ['t_delta'], inplace = True)\n",
    "master.head()"
   ]
  },
  {
   "cell_type": "markdown",
   "id": "27a9a7bd-2ace-40a9-991f-8372412ec77a",
   "metadata": {},
   "source": [
    "### Check if there is each combination of `load_value` and `speedSet` for each fault type"
   ]
  },
  {
   "cell_type": "code",
   "execution_count": null,
   "id": "940426e7-fee4-4c09-9269-5f5e2d58f4aa",
   "metadata": {},
   "outputs": [],
   "source": [
    "fault_types = master['gear_fault_desc'].unique()\n",
    "display(fault_types)"
   ]
  },
  {
   "cell_type": "code",
   "execution_count": null,
   "id": "b9178006-4db7-40a2-8614-faedac25e894",
   "metadata": {},
   "outputs": [],
   "source": [
    "experiments = master[['experiment_id', 'speedSet', 'load_value', 'gear_fault_desc']].drop_duplicates()\n",
    "display(experiments)"
   ]
  },
  {
   "cell_type": "code",
   "execution_count": null,
   "id": "3ffd65a1-bb63-4b89-a6eb-1cad272fb63b",
   "metadata": {},
   "outputs": [],
   "source": [
    "pd.crosstab(experiments['gear_fault_desc'], [experiments['speedSet'], experiments['load_value']])"
   ]
  },
  {
   "cell_type": "markdown",
   "id": "0b49fac1-d929-4cd6-ad03-f4a540bb3805",
   "metadata": {},
   "source": [
    "Now I know that there is one experiment for each combination of `load_value` and `speedSet` per type of failure"
   ]
  },
  {
   "cell_type": "markdown",
   "id": "7a7ede4e-0a49-4ddd-a6cd-484ca8748f3d",
   "metadata": {},
   "source": [
    "### Check if order of magnitude is generally similar for data from both sensors"
   ]
  },
  {
   "cell_type": "code",
   "execution_count": null,
   "id": "7d795b9d-887a-4991-ad07-82e1dd5e5851",
   "metadata": {},
   "outputs": [],
   "source": [
    "basic_sensor_stats = master[['sensor1', 'sensor2']].agg([\"min\", \"max\", \"mean\", \"std\"])\n",
    "display(basic_sensor_stats)"
   ]
  },
  {
   "cell_type": "markdown",
   "id": "ff7207b1-e21b-42d7-8d9f-5e52fde60733",
   "metadata": {},
   "source": [
    "### Check the correlation between `sensor1`and `sensor2` for each experiment separately"
   ]
  },
  {
   "cell_type": "code",
   "execution_count": null,
   "id": "ff546d73-7b0a-4ac7-98ef-7722bc637c89",
   "metadata": {},
   "outputs": [],
   "source": [
    "corr_sensors=(\n",
    "    master.groupby('experiment_id')[['sensor1', 'sensor2']]\n",
    "    .apply(lambda g: g['sensor1'].corr(g['sensor2']))\n",
    "    .rename(\"corr\")\n",
    "    .reset_index()\n",
    ")\n",
    "\n",
    "display(corr_sensors)\n",
    "display(corr_sensors[corr_sensors['corr']>0.5])"
   ]
  },
  {
   "cell_type": "code",
   "execution_count": null,
   "id": "9531d130-cf7f-4037-85cf-72dddbc7f149",
   "metadata": {},
   "outputs": [],
   "source": [
    "plt.figure(figsize=(6,4))\n",
    "sns.histplot(corr_sensors[\"corr\"], bins=36, kde=True)\n",
    "plt.title(\"histogram of correlation between sensor1 and sensor2\")\n",
    "plt.xlabel(\"correlation\")\n",
    "plt.ylabel(\"number of experiments\")\n",
    "plt.show()"
   ]
  },
  {
   "cell_type": "markdown",
   "id": "7b60a404-4674-4bab-9216-d93948c1406f",
   "metadata": {},
   "source": [
    "Correlation between sensor 1 and sensor 2 is low (<0.4) for all experiments. "
   ]
  },
  {
   "cell_type": "markdown",
   "id": "ef8ed294-1e68-4258-86c2-958049077544",
   "metadata": {},
   "source": [
    "### Plot sensor data for each cathegory (type of failure)"
   ]
  },
  {
   "cell_type": "code",
   "execution_count": null,
   "id": "5976ee3f-6a63-4c76-b476-225e6b686f6e",
   "metadata": {},
   "outputs": [],
   "source": [
    "master[\"combo\"] = master[\"speedSet\"].astype(str) + \" / \" + master[\"load_value\"].astype(str)\n",
    "\n",
    "sensors = [\"sensor1\",\"sensor2\"]\n",
    "id_cols = [\"gear_fault_desc\",\"combo\",\"t_rel_s\"]\n",
    "df_long = master[id_cols + sensors].melt(\n",
    "    id_vars=id_cols,\n",
    "    value_vars=sensors,\n",
    "    var_name=\"sensor\",\n",
    "    value_name=\"value\"\n",
    ")\n",
    "\n",
    "for fault in sorted(df_long[\"gear_fault_desc\"].unique()):\n",
    "    sub = df_long.query(\"gear_fault_desc == @fault\")\n",
    "    fig = px.line(\n",
    "        sub,\n",
    "        x=\"t_rel_s\", y=\"value\",\n",
    "        color=\"combo\",        # -> 6 klar verschiedene Farben\n",
    "        facet_col=\"sensor\" ,   # links sensor1, rechts sensor2\n",
    "        title = fault\n",
    "    )\n",
    "    fig.update_layout(width=1100, height=300)  # optional größer\n",
    "    fig.show()"
   ]
  },
  {
   "cell_type": "markdown",
   "id": "a7c5cb01-cd28-4549-a6e5-2d7fbce7eb26",
   "metadata": {},
   "source": [
    "###### Calculate typical coeffcients used in time series analysis:\n",
    "\n",
    "1.**RMS:** (DE: Effektivwert)\n",
    "\n",
    "2.**P2P:** Peak to Peak "
   ]
  },
  {
   "cell_type": "code",
   "execution_count": null,
   "id": "2c276290-dbd2-4ba0-85d5-c9836acb267b",
   "metadata": {},
   "outputs": [],
   "source": [
    "def rms(x):\n",
    "     return np.sqrt(np.mean(x**2))\n",
    "\n",
    "def p2p(x):\n",
    "    return np.max(x) - np.min(x)\n",
    "\n",
    "keys = ['gear_fault_desc', 'experiment_id', 'speedSet', 'load_value']\n",
    "sensor_cols = ['sensor1', 'sensor2']\n",
    "\n",
    "features = master.groupby(keys)[sensor_cols].agg([rms,p2p])"
   ]
  },
  {
   "cell_type": "code",
   "execution_count": null,
   "id": "ba096928-73b6-4a99-85ee-a0be7dd06f9e",
   "metadata": {},
   "outputs": [],
   "source": [
    "display(features)"
   ]
  },
  {
   "cell_type": "code",
   "execution_count": null,
   "id": "66b9ae28-c415-4709-bda2-22164850bb71",
   "metadata": {},
   "outputs": [],
   "source": [
    "#sns.boxplot(data=features, x=\"gear_fault_desc\", y=(\"sensor1\",\"rms\"))\n",
    "#plt.xticks(rotation=90)\n",
    "#plt.xlabel(\"fault type\", labelpad=20)\n",
    "\n",
    "plt.figure(figsize=(10,5))\n",
    "sns.boxplot(data=features, x=\"gear_fault_desc\", y=(\"sensor1\",\"rms\"), color=\"lightgray\")\n",
    "sns.stripplot(data=features, x=\"gear_fault_desc\", y=(\"sensor1\",\"rms\"), hue=\"experiment_id\", dodge=True, size=5, alpha=0.7)\n",
    "plt.xticks(rotation=90)\n",
    "plt.legend(ncols=3, loc='upper left', bbox_to_anchor=(1, 1))\n",
    "plt.show()\n",
    "\n",
    " \n"
   ]
  },
  {
   "cell_type": "code",
   "execution_count": null,
   "id": "54693b0b-bf1a-464e-8b99-46274d70acaa",
   "metadata": {},
   "outputs": [],
   "source": [
    "g = sns.catplot(\n",
    "    data=features,\n",
    "    x=\"gear_fault_desc\", y=(\"sensor2\",\"rms\"),\n",
    "    kind=\"box\",\n",
    "    col=\"speedSet\",           # Facetten-Spalten nach Geschwindigkeit\n",
    "    hue=\"load_value\",         # Farben für Load (optional)\n",
    "    height=5, aspect=1        # Größe der Subplots\n",
    ")\n",
    "g.set_xticklabels(rotation=90)"
   ]
  },
  {
   "cell_type": "code",
   "execution_count": null,
   "id": "7191f202-5127-4e12-b0ee-524c1c2227ac",
   "metadata": {},
   "outputs": [],
   "source": []
  },
  {
   "cell_type": "code",
   "execution_count": null,
   "id": "283a554e-1731-4981-990d-4591c48d262a",
   "metadata": {},
   "outputs": [],
   "source": [
    "g = sns.catplot(\n",
    "    data=features,\n",
    "    x=\"gear_fault_desc\", y=(\"sensor2\",\"rms\"),\n",
    "    kind=\"box\",\n",
    "    col=\"load_value\",           # Facetten-Spalten nach Geschwindigkeit\n",
    "    hue=\"speedSet\",         # Farben für Load (optional)\n",
    "    height=5, aspect=1        # Größe der Subplots\n",
    ")\n",
    "g.set_xticklabels(rotation=90)"
   ]
  },
  {
   "cell_type": "code",
   "execution_count": null,
   "id": "142b1dad-526b-4c99-a6a9-795cfa302bea",
   "metadata": {},
   "outputs": [],
   "source": [
    "g = sns.catplot(\n",
    "    data=features,\n",
    "    x=\"gear_fault_desc\", y=(\"sensor1\",\"rms\"),\n",
    "    kind=\"box\",\n",
    "    col=\"speedSet\", row=\"load_value\",\n",
    "    height=4, aspect=1.2\n",
    ")\n",
    "g.set_xticklabels(rotation=90)"
   ]
  }
 ],
 "metadata": {
  "kernelspec": {
   "display_name": "Python [conda env:base] *",
   "language": "python",
   "name": "conda-base-py"
  },
  "language_info": {
   "codemirror_mode": {
    "name": "ipython",
    "version": 3
   },
   "file_extension": ".py",
   "mimetype": "text/x-python",
   "name": "python",
   "nbconvert_exporter": "python",
   "pygments_lexer": "ipython3",
   "version": "3.12.7"
  }
 },
 "nbformat": 4,
 "nbformat_minor": 5
}
