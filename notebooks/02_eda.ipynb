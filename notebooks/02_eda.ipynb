{
 "cells": [
  {
   "cell_type": "markdown",
   "id": "0",
   "metadata": {},
   "source": [
    "### Import necessary packages"
   ]
  },
  {
   "cell_type": "code",
   "execution_count": null,
   "id": "1",
   "metadata": {},
   "outputs": [],
   "source": [
    "import numpy as np\n",
    "import pandas as pd\n",
    "import seaborn as sns\n",
    "import matplotlib.pyplot as plt\n",
    "from pathlib import Path\n",
    "import plotly.express as px"
   ]
  },
  {
   "cell_type": "markdown",
   "id": "2",
   "metadata": {},
   "source": [
    "### Load data to DataFrame called master"
   ]
  },
  {
   "cell_type": "code",
   "execution_count": null,
   "id": "3",
   "metadata": {},
   "outputs": [],
   "source": [
    "master = pd.read_parquet(\"../results/processed/master_clean.parquet\")\n",
    "master.drop(columns = ['t_delta'], inplace = True)\n",
    "master.head()"
   ]
  },
  {
   "cell_type": "markdown",
   "id": "4",
   "metadata": {},
   "source": [
    "### Check if there is each combination of `load_value` and `speedSet` for each fault type"
   ]
  },
  {
   "cell_type": "code",
   "execution_count": null,
   "id": "5",
   "metadata": {},
   "outputs": [],
   "source": [
    "fault_types = master['gear_fault_desc'].unique()\n",
    "display(fault_types)"
   ]
  },
  {
   "cell_type": "code",
   "execution_count": null,
   "id": "6",
   "metadata": {},
   "outputs": [],
   "source": [
    "experiments = master[['experiment_id', 'speedSet', 'load_value', 'gear_fault_desc']].drop_duplicates()\n",
    "display(experiments)"
   ]
  },
  {
   "cell_type": "code",
   "execution_count": null,
   "id": "7",
   "metadata": {},
   "outputs": [],
   "source": [
    "pd.crosstab(experiments['gear_fault_desc'], [experiments['speedSet'], experiments['load_value']])"
   ]
  },
  {
   "cell_type": "markdown",
   "id": "8",
   "metadata": {},
   "source": [
    "Now I know that there is one experiment for each combination of `load_value` and `speedSet` per type of failure"
   ]
  },
  {
   "cell_type": "markdown",
   "id": "9",
   "metadata": {},
   "source": [
    "### Check if order of magnitude is generally similar for data from both sensors"
   ]
  },
  {
   "cell_type": "code",
   "execution_count": null,
   "id": "10",
   "metadata": {},
   "outputs": [],
   "source": [
    "basic_sensor_stats = master[['sensor1', 'sensor2']].agg([\"min\", \"max\", \"mean\", \"std\"])\n",
    "display(basic_sensor_stats)"
   ]
  },
  {
   "cell_type": "markdown",
   "id": "11",
   "metadata": {},
   "source": [
    "### Check the correlation between `sensor1`and `sensor2` for each experiment separately"
   ]
  },
  {
   "cell_type": "code",
   "execution_count": null,
   "id": "12",
   "metadata": {},
   "outputs": [],
   "source": [
    "corr_sensors=(\n",
    "    master.groupby('experiment_id')[['sensor1', 'sensor2']]\n",
    "    .apply(lambda g: g['sensor1'].corr(g['sensor2']))\n",
    "    .rename(\"corr\")\n",
    "    .reset_index()\n",
    ")\n",
    "\n",
    "corr_sensors.head()\n",
    "display(corr_sensors[corr_sensors['corr']>0.5])"
   ]
  },
  {
   "cell_type": "code",
   "execution_count": null,
   "id": "13",
   "metadata": {},
   "outputs": [],
   "source": [
    "plt.figure(figsize=(6,4))\n",
    "sns.histplot(corr_sensors[\"corr\"], bins=36, kde=True)\n",
    "plt.title(\"histogram of correlation between sensor1 and sensor2\")\n",
    "plt.xlabel(\"correlation\")\n",
    "plt.ylabel(\"number of experiments\")\n",
    "plt.show()"
   ]
  },
  {
   "cell_type": "markdown",
   "id": "14",
   "metadata": {},
   "source": [
    "Correlation between sensor 1 and sensor 2 is low (<0.4) for all experiments. "
   ]
  },
  {
   "cell_type": "markdown",
   "id": "15",
   "metadata": {},
   "source": [
    "### Plot sensor data for each cathegory (type of failure)"
   ]
  },
  {
   "cell_type": "code",
   "execution_count": null,
   "id": "16",
   "metadata": {},
   "outputs": [],
   "source": [
    "master[\"combo\"] = master[\"speedSet\"].astype(str) + \" / \" + master[\"load_value\"].astype(str)\n",
    "\n",
    "sensors = [\"sensor1\",\"sensor2\"]\n",
    "id_cols = [\"gear_fault_desc\",\"combo\",\"t_rel_s\"]\n",
    "df_long = master[id_cols + sensors].melt(\n",
    "    id_vars=id_cols,\n",
    "    value_vars=sensors,\n",
    "    var_name=\"sensor\",\n",
    "    value_name=\"value\"\n",
    ")\n",
    "\n",
    "for fault in sorted(df_long[\"gear_fault_desc\"].unique()):\n",
    "    sub = df_long.query(\"gear_fault_desc == @fault\")\n",
    "    fig = px.line(\n",
    "        sub,\n",
    "        x=\"t_rel_s\", y=\"value\",\n",
    "        color=\"combo\",        # -> 6 klar verschiedene Farben\n",
    "        facet_col=\"sensor\" ,   # links sensor1, rechts sensor2\n",
    "        title = fault\n",
    "    )\n",
    "    fig.update_layout(width=1100, height=300)  # optional größer\n",
    "    fig.show()"
   ]
  },
  {
   "cell_type": "markdown",
   "id": "17",
   "metadata": {},
   "source": [
    "###### Calculate typical coeffcients used in time series analysis:\n",
    "\n",
    "1.**RMS:** (DE: Effektivwert)\n",
    "\n",
    "2.**P2P:** Peak to Peak "
   ]
  },
  {
   "cell_type": "code",
   "execution_count": null,
   "id": "18",
   "metadata": {},
   "outputs": [],
   "source": [
    "def rms(x):\n",
    "     return np.sqrt(np.mean(x**2))\n",
    "\n",
    "def p2p(x):\n",
    "    return np.max(x) - np.min(x)\n",
    "\n",
    "keys = ['gear_fault_desc', 'experiment_id', 'speedSet', 'load_value']\n",
    "sensor_cols = ['sensor1', 'sensor2']\n",
    "\n",
    "features = master.groupby(keys)[sensor_cols].agg([rms,p2p])"
   ]
  },
  {
   "cell_type": "code",
   "execution_count": null,
   "id": "19",
   "metadata": {},
   "outputs": [],
   "source": [
    "display(features)"
   ]
  },
  {
   "cell_type": "code",
   "execution_count": null,
   "id": "20",
   "metadata": {},
   "outputs": [],
   "source": [
    "#sns.boxplot(data=features, x=\"gear_fault_desc\", y=(\"sensor1\",\"rms\"))\n",
    "#plt.xticks(rotation=90)\n",
    "#plt.xlabel(\"fault type\", labelpad=20)\n",
    "\n",
    "plt.figure(figsize=(10,5))\n",
    "sns.boxplot(data=features, x=\"gear_fault_desc\", y=(\"sensor1\",\"rms\"), color=\"lightgray\")\n",
    "sns.stripplot(data=features, x=\"gear_fault_desc\", y=(\"sensor1\",\"rms\"), hue=\"experiment_id\", dodge=True, size=5, alpha=0.7)\n",
    "plt.xticks(rotation=90)\n",
    "plt.legend(ncols=3, loc='upper left', bbox_to_anchor=(1, 1))\n",
    "plt.show()"
   ]
  },
  {
   "cell_type": "code",
   "execution_count": null,
   "id": "21",
   "metadata": {},
   "outputs": [],
   "source": []
  },
  {
   "cell_type": "code",
   "execution_count": null,
   "id": "22",
   "metadata": {},
   "outputs": [],
   "source": [
    "plt.figure(figsize=(8,6))\n",
    "sns.scatterplot(\n",
    "    data=features,\n",
    "    x=('sensor1','rms'), y=('sensor1','p2p'),\n",
    "    hue=\"gear_fault_desc\",    # Farbe = Fehlerklasse\n",
    "    style=\"load_value\",       # Markerform = Last\n",
    "    size=\"speedSet\",          # Markergröße = Drehzahl\n",
    "    sizes=(40, 200)           # kleinste und größte Markergröße\n",
    ")\n",
    "plt.title(\"RMS vs P2P (Sensor1) mit Load und Speed\")\n",
    "plt.xlabel(\"RMS (Sensor1)\")\n",
    "plt.ylabel(\"Peak-to-Peak (Sensor1)\")\n",
    "plt.legend(bbox_to_anchor=(1.05, 1), loc='upper left')  # Legende rechts außen\n",
    "plt.tight_layout()\n",
    "plt.show()"
   ]
  },
  {
   "cell_type": "code",
   "execution_count": null,
   "id": "23",
   "metadata": {},
   "outputs": [],
   "source": []
  },
  {
   "cell_type": "code",
   "execution_count": null,
   "id": "24",
   "metadata": {},
   "outputs": [],
   "source": [
    "features = features.reset_index()\n",
    "\n",
    "def flatten_column(col):\n",
    "    if isinstance(col, tuple):\n",
    "        if col[1] == '':\n",
    "            return col[0]\n",
    "        else:\n",
    "            return \"_\".join(col).strip()\n",
    "    else:\n",
    "        return col\n",
    "\n",
    "features.columns = [flatten_column(col) for col in features.columns]"
   ]
  },
  {
   "cell_type": "code",
   "execution_count": null,
   "id": "25",
   "metadata": {},
   "outputs": [],
   "source": []
  },
  {
   "cell_type": "code",
   "execution_count": null,
   "id": "26",
   "metadata": {},
   "outputs": [],
   "source": [
    "features.head()"
   ]
  },
  {
   "cell_type": "code",
   "execution_count": null,
   "id": "27",
   "metadata": {},
   "outputs": [],
   "source": [
    "feat_cols = [\"sensor1_rms\",\"sensor1_p2p\",\"sensor2_rms\",\"sensor2_p2p\"]\n",
    "\n",
    "baseline = (\n",
    "    features.query(\"gear_fault_desc == 'No fault'\")\n",
    "    .set_index([\"speedSet\",\"load_value\"])[feat_cols]\n",
    ")\n",
    "\n",
    "# 2. Deltas berechnen\n",
    "def compute_delta(row):\n",
    "    base = baseline.loc[(row.speedSet, row.load_value)]\n",
    "    return pd.Series({f\"{col}_delta\": row[col] - base[col] for col in feat_cols})\n",
    "\n",
    "\n",
    "features_with_delta = features.join(features.apply(compute_delta, axis=1))\n",
    "features_with_delta = features_with_delta.join(features.apply(compute_delta_rel_prc, axis=1))\n",
    "features_with_delta.set_index(\"experiment_id\", inplace = True)\n"
   ]
  },
  {
   "cell_type": "code",
   "execution_count": null,
   "id": "28",
   "metadata": {},
   "outputs": [],
   "source": [
    "features_with_delta = features_with_delta[features_with_delta['gear_fault_desc'] != 'No fault']\n",
    "\n",
    "features_with_delta.head()"
   ]
  },
  {
   "cell_type": "code",
   "execution_count": null,
   "id": "29",
   "metadata": {},
   "outputs": [],
   "source": [
    "plt.figure(figsize=(10, 8))\n",
    "sns.heatmap(features_with_delta.filter(like=\"prc\"), cmap=\"coolwarm\",center=0, vmin=-200, vmax=200, annot=True)\n",
    "plt.show()"
   ]
  },
  {
   "cell_type": "code",
   "execution_count": null,
   "id": "30",
   "metadata": {},
   "outputs": [],
   "source": [
    "\n",
    "\n",
    "df = features_with_delta  # für bessere Y-Labels\n",
    "\n",
    "# Spalten auswählen\n",
    "rms_cols = df.filter(like=\"rms_delta_rel_prc\")\n",
    "p2p_cols = df.filter(like=\"p2p_delta_rel_prc\")\n",
    "\n",
    "# dynamische Höhe (0.35 inch pro Zeile als grober Richtwert)\n",
    "h = max(6, 0.35 * len(df))\n",
    "\n",
    "# --- RMS-Heatmap (feine Skala, um 0 zentriert)\n",
    "rms_vmax = np.nanpercentile(np.abs(rms_cols.values), 95)  # robust gegen Ausreißer\n",
    "plt.figure(figsize=(10, h))\n",
    "sns.heatmap(rms_cols, cmap=\"coolwarm\", center=0, vmin=-rms_vmax, vmax=rms_vmax,\n",
    "            annot=True, fmt=\".2f\")\n",
    "plt.title(\"Δ% vs. No fault – RMS\")\n",
    "plt.xlabel(\"Feature\")\n",
    "plt.ylabel(\"experiment_id\")\n",
    "plt.tight_layout()\n",
    "plt.show()\n",
    "\n",
    "# --- P2P-Heatmap (eigene größere Skala, ggf. deckeln)\n",
    "p2p_vmax = np.nanpercentile(np.abs(p2p_cols.values), 95)  # z.B. ~200–400, je nach Daten\n",
    "plt.figure(figsize=(10, h))\n",
    "sns.heatmap(p2p_cols, cmap=\"coolwarm\", center=0, vmin=-p2p_vmax, vmax=p2p_vmax,\n",
    "            annot=True, fmt=\".1f\")\n",
    "plt.title(\"Δ% vs. No fault – P2P\")\n",
    "plt.xlabel(\"Feature\")\n",
    "plt.ylabel(\"experiment_id\")\n",
    "plt.tight_layout()\n",
    "plt.show()"
   ]
  }
 ],
 "metadata": {
  "kernelspec": {
   "display_name": "Python [conda env:base] *",
   "language": "python",
   "name": "conda-base-py"
  },
  "language_info": {
   "codemirror_mode": {
    "name": "ipython",
    "version": 3
   },
   "file_extension": ".py",
   "mimetype": "text/x-python",
   "name": "python",
   "nbconvert_exporter": "python",
   "pygments_lexer": "ipython3",
   "version": "3.12.7"
  }
 },
 "nbformat": 4,
 "nbformat_minor": 5
}
