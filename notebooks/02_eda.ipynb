{
 "cells": [
  {
   "cell_type": "markdown",
   "id": "0",
   "metadata": {},
   "source": [
    "# DataFrames – Overview & Purpose\n",
    "\n",
    "**Conventions**\n",
    "- `id_cols = [experiment_id, gear_fault_desc, speedSet, load_value, combo]`\n",
    "- Sensor features: `sensor{1|2}_{rms|p2p|skew|kurtosis}`\n",
    "- Suffixes:\n",
    "  - `_baseline` = reference (No fault, same speed/load)\n",
    "  - `_delta` = absolute difference to baseline\n",
    "  - `_delta_rel_prc` = relative difference to baseline in %\n",
    "\n",
    "---\n",
    "\n",
    "## 1) `master`  *(raw time-series)*\n",
    "- **Granularity:** one time sample  \n",
    "- **Format:** **wide**  \n",
    "- **Key columns:** `id_cols`, `t_rel_s`, `sensor1`, `sensor2`  \n",
    "- **Purpose:** source for time plots, histograms, feature computation\n",
    "\n",
    "---\n",
    "\n",
    "## 2) `df_long_ts`  *(time series for plotting)*\n",
    "- **Granularity:** one time sample **per sensor**  \n",
    "- **Format:** **long**  \n",
    "- **Columns:** `id_cols`, `t_rel_s`, `sensor ∈ {sensor1,sensor2}`, `value`  \n",
    "- **Purpose:** Plotly/Seaborn facets (traces, histograms, ECDF) without column wrangling\n",
    "\n",
    "---\n",
    "\n",
    "## 3) `features_wide`  *(aggregated features per experiment)*\n",
    "- **Granularity:** one row per `experiment_id`  \n",
    "- **Format:** **wide**  \n",
    "- **Columns:** `id_cols` + absolute sensor features  \n",
    "  (e.g., `sensor1_rms`, `sensor1_p2p`, `sensor1_skew`, `sensor1_kurtosis`, … and analogous `sensor2_*`)  \n",
    "- **Purpose:** single source of truth for absolute metrics (no deltas)\n",
    "\n",
    "---\n",
    "\n",
    "## 4) `baseline_df`  *(No-fault reference per condition)*\n",
    "- **Granularity:** one row per `(speedSet, load_value)` in **No fault**  \n",
    "- **Format:** **wide** (reference columns only)  \n",
    "- **Columns:** `speedSet`, `load_value`, all `*_baseline`  \n",
    "- **Purpose:** merge partner to attach the correct reference to each row\n",
    "\n",
    "---\n",
    "\n",
    "## 5) `features_delta`  *(features + baseline + deltas)*\n",
    "- **Granularity:** one row per `experiment_id`  \n",
    "- **Format:** **wide**  \n",
    "- **Columns:**  \n",
    "  - **IDs:** `id_cols`  \n",
    "  - **Absolute:** all from `features_wide`  \n",
    "  - **Baseline:** all `*_baseline` (from `baseline_df`)  \n",
    "  - **Deltas:** `*_delta` (all features), `*_delta_rel_prc` (typically for `rms`/`p2p`)  \n",
    "- **Purpose:** comparisons/analysis, export; keep **No fault** rows (deltas ≈ 0 as sanity check)\n",
    "\n",
    "---\n",
    "\n",
    "## 6) `features_long`  *(tidy view for visualization)*\n",
    "- **Granularity:** one measurement per `(experiment_id, sensor, feature, kind)`  \n",
    "- **Format:** **long**  \n",
    "- **Columns:** `id_cols`, `sensor`, `feature ∈ {rms,p2p,skew,kurtosis}`,  \n",
    "  `kind ∈ {abs, baseline, delta, delta_rel_prc}`, `value`  \n",
    "- **Purpose:** flexible plots (heatmaps, bars, radar, rankings) via `query(...)` & `pivot(...)`\n",
    "\n",
    "---\n",
    "\n",
    "## Typical Usage\n",
    "- **Time plots / histograms:** `df_long_ts`  \n",
    "- **Heatmaps / bar charts of deviations:** `features_long` with `kind ∈ {'delta','delta_rel_prc'}` (usually exclude *No fault*)  \n",
    "- **Tabular comparison / export:** `features_delta`  \n",
    "- **Reference check:** `features_delta` (No-fault rows → deltas ~ 0)\n",
    "\n",
    "---\n",
    "\n",
    "## Persistence (recommendation)\n",
    "```python\n",
    "features_delta.to_parquet(\"results/eda/features_delta.parquet\", index=False)\n",
    "features_long.to_parquet(\"results/eda/features_long.parquet\", index=False)"
   ]
  },
  {
   "cell_type": "markdown",
   "id": "1",
   "metadata": {},
   "source": [
    "### Import necessary packages"
   ]
  },
  {
   "cell_type": "code",
   "execution_count": null,
   "id": "2",
   "metadata": {},
   "outputs": [],
   "source": [
    "import numpy as np\n",
    "import pandas as pd\n",
    "import seaborn as sns\n",
    "import matplotlib.pyplot as plt\n",
    "from pathlib import Path\n",
    "import plotly.express as px\n",
    "from scipy.stats import skew, kurtosis"
   ]
  },
  {
   "cell_type": "markdown",
   "id": "3",
   "metadata": {},
   "source": [
    "### Load data to DataFrame called master"
   ]
  },
  {
   "cell_type": "code",
   "execution_count": null,
   "id": "4",
   "metadata": {},
   "outputs": [],
   "source": [
    "master = pd.read_parquet(\"../results/processed/master_clean.parquet\")\n",
    "master.head()"
   ]
  },
  {
   "cell_type": "markdown",
   "id": "5",
   "metadata": {},
   "source": [
    "### Check if there is each combination of `load_value` and `speedSet` for each fault type"
   ]
  },
  {
   "cell_type": "code",
   "execution_count": null,
   "id": "6",
   "metadata": {},
   "outputs": [],
   "source": [
    "fault_types = master['gear_fault_desc'].unique()\n",
    "#display(fault_types)"
   ]
  },
  {
   "cell_type": "code",
   "execution_count": null,
   "id": "7",
   "metadata": {},
   "outputs": [],
   "source": [
    "experiments = master[['experiment_id', 'speedSet', 'load_value', 'gear_fault_desc']].drop_duplicates()\n",
    "#display(experiments)"
   ]
  },
  {
   "cell_type": "code",
   "execution_count": null,
   "id": "8",
   "metadata": {},
   "outputs": [],
   "source": [
    "pd.crosstab(experiments['gear_fault_desc'], [experiments['speedSet'], experiments['load_value']])"
   ]
  },
  {
   "cell_type": "markdown",
   "id": "9",
   "metadata": {},
   "source": [
    "Now I know that there is one experiment for each combination of `load_value` and `speedSet` per type of failure"
   ]
  },
  {
   "cell_type": "markdown",
   "id": "10",
   "metadata": {},
   "source": [
    "### Check if order of magnitude is generally similar for data from both sensors"
   ]
  },
  {
   "cell_type": "code",
   "execution_count": null,
   "id": "11",
   "metadata": {},
   "outputs": [],
   "source": [
    "basic_sensor_stats = master[['sensor1', 'sensor2']].agg([\"min\", \"max\", \"mean\", \"std\"])\n",
    "display(basic_sensor_stats)"
   ]
  },
  {
   "cell_type": "markdown",
   "id": "12",
   "metadata": {},
   "source": [
    "### Check the correlation between `sensor1`and `sensor2` for each experiment separately"
   ]
  },
  {
   "cell_type": "code",
   "execution_count": null,
   "id": "13",
   "metadata": {},
   "outputs": [],
   "source": [
    "corr_sensors=(\n",
    "    master.groupby('experiment_id')[['sensor1', 'sensor2']]\n",
    "    .apply(lambda g: g['sensor1'].corr(g['sensor2']))\n",
    "    .rename(\"corr\")\n",
    "    .reset_index()\n",
    ")\n",
    "\n",
    "corr_sensors.head()\n",
    "len(corr_sensors[corr_sensors['corr']>0.5])"
   ]
  },
  {
   "cell_type": "code",
   "execution_count": null,
   "id": "14",
   "metadata": {},
   "outputs": [],
   "source": [
    "plt.figure(figsize=(6,4))\n",
    "sns.histplot(corr_sensors[\"corr\"], bins=36, kde=True)\n",
    "plt.title(\"histogram of correlation between sensor1 and sensor2\")\n",
    "plt.xlabel(\"correlation\")\n",
    "plt.ylabel(\"number of experiments\")\n",
    "plt.show()"
   ]
  },
  {
   "cell_type": "markdown",
   "id": "15",
   "metadata": {},
   "source": [
    "Correlation between sensor 1 and sensor 2 is low (<0.4) for all experiments. "
   ]
  },
  {
   "cell_type": "markdown",
   "id": "16",
   "metadata": {},
   "source": [
    "### Plot sensor data for each cathegory (type of failure)"
   ]
  },
  {
   "cell_type": "code",
   "execution_count": null,
   "id": "17",
   "metadata": {},
   "outputs": [],
   "source": [
    "sensors = [\"sensor1\",\"sensor2\"]\n",
    "id_cols = [\"gear_fault_desc\",\"combo\",\"t_rel_s\"]\n",
    "df_long_ts = master[id_cols + sensors].melt(\n",
    "    id_vars=id_cols,\n",
    "    value_vars=sensors,\n",
    "    var_name=\"sensor\",\n",
    "    value_name=\"value\"\n",
    ")\n",
    "\n",
    "for fault in sorted(df_long_ts[\"gear_fault_desc\"].unique()):\n",
    "    sub = df_long_ts.query(\"gear_fault_desc == @fault\")\n",
    "    fig = px.line(\n",
    "        sub,\n",
    "        x=\"t_rel_s\", y=\"value\",\n",
    "        color=\"combo\",        # -> 6 klar verschiedene Farben\n",
    "        facet_col=\"sensor\" ,   # links sensor1, rechts sensor2\n",
    "        title = fault\n",
    "    )\n",
    "    fig.update_layout(width=1100, height=300)  # optional größer\n",
    "    fig.show()"
   ]
  },
  {
   "cell_type": "markdown",
   "id": "18",
   "metadata": {},
   "source": [
    "#### Calculate typical coeffcients used in time series analysis:\n",
    "\n",
    "1.**RMS & RMS rel. to No Fault in %:** (DE: Effektivwert)\n",
    "\n",
    "2.**P2P & P2P rel. to No Fault in %:** Peak to Peak \n",
    "\n",
    "3.**Skewness (absolute values and difference to No Fault):** Shows how symmetric the distribution of values is around the mean value:\n",
    "(0: symmetrical, >0: more extreme positive values, <0: more extreme negative values  )\n",
    "\n",
    "4.**Kurtosis (absolute values and difference to No Fault):** Allows to compare the distribution of the signal to normal distribution:\n",
    "(=3: similar to normal distribution, <3: peaked distribution, frequent or extreme outliers, >3: flatter distribution, fewer or less extreme outliers)"
   ]
  },
  {
   "cell_type": "markdown",
   "id": "19",
   "metadata": {},
   "source": [
    "#### Create a DataFrame called features, containing  the parameters rms, p2p, skew, kurtosis  for all experiments"
   ]
  },
  {
   "cell_type": "code",
   "execution_count": null,
   "id": "20",
   "metadata": {},
   "outputs": [],
   "source": [
    "def rms(x):\n",
    "     return np.sqrt(np.mean(x**2))\n",
    "\n",
    "def p2p(x):\n",
    "    return np.max(x) - np.min(x)\n",
    "\n",
    "\n",
    "keys = ['gear_fault_desc', 'experiment_id', 'combo', 'speedSet', 'load_value']\n",
    "sensor_cols = ['sensor1', 'sensor2']\n",
    "\n",
    "features = master.groupby(keys)[sensor_cols].agg([rms,p2p,skew,kurtosis])\n",
    "\n",
    "features = features.reset_index()\n",
    "\n",
    "def flatten_column(col):\n",
    "    if isinstance(col, tuple):\n",
    "        if col[1] == '':\n",
    "            return col[0]\n",
    "        else:\n",
    "            return \"_\".join(col).strip()\n",
    "    else:\n",
    "        return col\n",
    "\n",
    "features.columns = [flatten_column(col) for col in features.columns]\n",
    "\n",
    "\n",
    "#features.columns = ['_'.join(col) if isinstance (col, tuple)  else col for col in features.columns ]"
   ]
  },
  {
   "cell_type": "code",
   "execution_count": null,
   "id": "21",
   "metadata": {},
   "outputs": [],
   "source": [
    "#sns.boxplot(data=features, x=\"gear_fault_desc\", y=(\"sensor1\",\"rms\"))\n",
    "#plt.xticks(rotation=90)\n",
    "#plt.xlabel(\"fault type\", labelpad=20)\n",
    "\n",
    "plt.figure(figsize=(10,5))\n",
    "sns.boxplot(data=features, x=\"gear_fault_desc\", y=(\"sensor1_rms\"), color=\"lightgray\")\n",
    "sns.stripplot(data=features, x=\"gear_fault_desc\", y=(\"sensor1_rms\"), hue=\"experiment_id\", dodge=True, size=5, alpha=0.7)\n",
    "plt.xticks(rotation=90)\n",
    "plt.legend(ncols=3, loc='upper left', bbox_to_anchor=(1, 1))\n",
    "plt.show()"
   ]
  },
  {
   "cell_type": "code",
   "execution_count": null,
   "id": "22",
   "metadata": {},
   "outputs": [],
   "source": [
    "plt.figure(figsize=(8,6))\n",
    "sns.scatterplot(\n",
    "    data=features,\n",
    "    x=('sensor1_rms'), y=('sensor1_p2p'),\n",
    "    hue=\"gear_fault_desc\",    # Farbe = Fehlerklasse\n",
    "    style=\"load_value\",       # Markerform = Last\n",
    "    size=\"speedSet\",          # Markergröße = Drehzahl\n",
    "    sizes=(40, 200)           # kleinste und größte Markergröße\n",
    ")\n",
    "plt.title(\"RMS vs P2P (Sensor1) mit Load und Speed\")\n",
    "plt.xlabel(\"RMS (Sensor1)\")\n",
    "plt.ylabel(\"Peak-to-Peak (Sensor1)\")\n",
    "plt.legend(bbox_to_anchor=(1.05, 1), loc='upper left')  # Legende rechts außen\n",
    "plt.tight_layout()\n",
    "plt.show()"
   ]
  },
  {
   "cell_type": "code",
   "execution_count": null,
   "id": "23",
   "metadata": {},
   "outputs": [],
   "source": []
  },
  {
   "cell_type": "markdown",
   "id": "24",
   "metadata": {},
   "source": [
    "#### Create a DataFrame called baseline, containing the parameters rms, p2p, skewness, kurtosis only for the experiments with no fault\n",
    "\n",
    "#### Create a DataFrame calles features_delta containing rms, p2p, skewness, kurtosis and the delta values for all experiments"
   ]
  },
  {
   "cell_type": "code",
   "execution_count": null,
   "id": "25",
   "metadata": {},
   "outputs": [],
   "source": [
    "rel_cols = [\"sensor1_rms\",\"sensor1_p2p\",\"sensor2_rms\",\"sensor2_p2p\"]\n",
    "abs_cols = [\"sensor1_rms\",\"sensor1_p2p\", \"sensor1_skew\",\"sensor1_kurtosis\",\"sensor2_rms\",\"sensor2_p2p\", \"sensor2_skew\",\"sensor2_kurtosis\"]\n",
    "\n",
    "baseline = (\n",
    "    features.loc[features['gear_fault_desc'] == 'No fault', ['speedSet', 'load_value','combo', *abs_cols]]\n",
    "    .rename(columns = {c: f\"{c}_baseline\" for c in abs_cols})\n",
    ")\n",
    "\n",
    "features_delta = features.merge(baseline, on=['speedSet', 'load_value'], how='left')\n",
    "features_delta.drop('combo_y', axis = 1, inplace = True)\n",
    "features_delta.rename(columns = {'combo_x' : 'combo'}, inplace = True)\n",
    "\n",
    "for c in abs_cols:\n",
    "    features_delta[f\"{c}_delta\"]= features_delta[c] - features_delta[f\"{c}_baseline\"]\n",
    "\n",
    "for c in rel_cols:\n",
    "    features_delta[f\"{c}_delta_rel_prc\"] = ((features_delta[c] - features_delta[f\"{c}_baseline\"])/features_delta[f\"{c}_baseline\"])*100\n"
   ]
  },
  {
   "cell_type": "markdown",
   "id": "26",
   "metadata": {},
   "source": [
    "##### Sanity check: all deltas for 'No_fault' must be 0"
   ]
  },
  {
   "cell_type": "code",
   "execution_count": null,
   "id": "27",
   "metadata": {},
   "outputs": [],
   "source": [
    "display(features_delta[features_delta['gear_fault_desc'] == 'No fault'])\n"
   ]
  },
  {
   "cell_type": "code",
   "execution_count": null,
   "id": "28",
   "metadata": {},
   "outputs": [],
   "source": [
    "features_delta.columns"
   ]
  },
  {
   "cell_type": "markdown",
   "id": "29",
   "metadata": {},
   "source": [
    "#### Create a dataframe called features_long which contains all data in long format. Data from all columns except for id_cols is transfered to two columns called 'metric' and 'value'. The column names are split in sensor (sensor1, sensor2), feature (rms, p2k, skew, kurtosis) and kind  (baseline, delta, delta_rel_prc, abs)"
   ]
  },
  {
   "cell_type": "code",
   "execution_count": null,
   "id": "30",
   "metadata": {},
   "outputs": [],
   "source": [
    "id_cols = [\"experiment_id\",\"gear_fault_desc\",\"speedSet\",\"load_value\",\"combo\"]\n",
    "\n",
    "keep = (\n",
    "    id_cols\n",
    "    + abs_cols\n",
    "    + [f\"{c}_baseline\" for c in abs_cols]\n",
    "    + [f\"{c}_delta\"     for c in abs_cols]\n",
    "    + [f\"{c}_delta_rel_prc\" for c in rel_cols]\n",
    ") #list of column names that should be in features_long\n",
    "\n",
    "features_long = features_delta[keep].melt(\n",
    "    id_vars=id_cols, var_name=\"metric\", value_name=\"value\"\n",
    ") #transforms to long dataframe with 2 columns called matric and value\n",
    "\n",
    "parts = features_long[\"metric\"].str.extract(\n",
    "    r\"^(sensor\\d+)_(rms|p2p|skew|kurtosis)(?:_(baseline|delta|delta_rel_prc))?$\"\n",
    ") #splits the column name into sensor, feature and kind  \n",
    "\n",
    "parts.columns = [\"sensor\",\"feature\",\"kind\"] \n",
    "\n",
    "features_long = pd.concat([features_long[id_cols], parts, features_long[\"value\"]], axis=1) \n",
    "\n",
    "#features_long['kind'].fillna('abs', inplace = True)\n",
    "features_long.fillna({'kind': 'abs'}, inplace=True)\n"
   ]
  },
  {
   "cell_type": "code",
   "execution_count": null,
   "id": "31",
   "metadata": {},
   "outputs": [],
   "source": [
    "features_long.head(20)"
   ]
  },
  {
   "cell_type": "code",
   "execution_count": null,
   "id": "32",
   "metadata": {},
   "outputs": [],
   "source": []
  },
  {
   "cell_type": "code",
   "execution_count": null,
   "id": "33",
   "metadata": {},
   "outputs": [],
   "source": [
    "features.sort_values(by=['gear_fault_desc', 'speedSet', 'load_value'], axis = 0, inplace =True)\n",
    "features.reset_index(inplace = True, drop = True)\n",
    "features.head()"
   ]
  },
  {
   "cell_type": "code",
   "execution_count": null,
   "id": "34",
   "metadata": {},
   "outputs": [],
   "source": [
    "\n",
    "df = features.set_index(\"experiment_id\")\n",
    "\n",
    "# Spalten auswählen\n",
    "rms_rel_cols = df.filter(like=\"rms_delta_rel_prc\")\n",
    "p2p_rel_cols = df.filter(like=\"p2p_delta_rel_prc\")\n",
    "skew_cols = df.filter(like=\"skew\")\n",
    "kurt_cols = df.filter(like=\"kurt\")\n",
    "\n",
    "\n",
    "# dynamische Höhe (0.35 inch pro Zeile als grober Richtwert)\n",
    "h = max(6, 0.35 * len(df))\n",
    "\n",
    "# --- RMS-Heatmap (feine Skala, um 0 zentriert)\n",
    "rms_vmax = np.nanpercentile(np.abs(rms_rel_cols.values), 95)  # robust gegen Ausreißer\n",
    "plt.figure(figsize=(10, h))\n",
    "sns.heatmap(rms_rel_cols, cmap=\"coolwarm\", center=0, vmin=-rms_vmax, vmax=rms_vmax,\n",
    "            annot=True, fmt=\".2f\")\n",
    "plt.title(\"Δ% vs. No fault – RMS\")\n",
    "plt.xlabel(\"Feature\")\n",
    "plt.ylabel(\"experiment_id\")\n",
    "plt.tight_layout()\n",
    "plt.show()\n",
    "\n",
    "# --- P2P-Heatmap (eigene größere Skala, ggf. deckeln)\n",
    "p2p_vmax = np.nanpercentile(np.abs(p2p_rel_cols.values), 95)  # z.B. ~200–400, je nach Daten\n",
    "plt.figure(figsize=(10, h))\n",
    "sns.heatmap(p2p_rel_cols, cmap=\"coolwarm\", center=0, vmin=-p2p_vmax, vmax=p2p_vmax,\n",
    "            annot=True, fmt=\".1f\")\n",
    "plt.title(\"Δ% vs. No fault – P2P\")\n",
    "plt.xlabel(\"Feature\")\n",
    "plt.ylabel(\"experiment_id\")\n",
    "plt.tight_layout()\n",
    "plt.show()\n",
    "\n",
    "skew_vmax = np.nanpercentile(np.abs(skew_cols.values), 95)  # z.B. ~200–400, je nach Daten\n",
    "plt.figure(figsize=(10, h))\n",
    "sns.heatmap(skew_cols, cmap=\"coolwarm\", center=0, vmin=-skew_vmax, vmax=skew_vmax,\n",
    "            annot=True, fmt=\".1f\")\n",
    "plt.title(\"Skewness\")\n",
    "plt.xlabel(\"Feature\")\n",
    "plt.ylabel(\"experiment_id\")\n",
    "plt.tight_layout()\n",
    "plt.show()\n",
    "\n",
    "kurt_vmax = np.nanpercentile(np.abs(kurt_cols.values), 95)  # z.B. ~200–400, je nach Daten\n",
    "plt.figure(figsize=(10, h))\n",
    "sns.heatmap(kurt_cols, cmap=\"coolwarm\", center=0, vmin=-kurt_vmax, vmax=kurt_vmax,\n",
    "            annot=True, fmt=\".1f\")\n",
    "plt.title(\"Kurtosis\")\n",
    "plt.xlabel(\"Feature\")\n",
    "plt.ylabel(\"experiment_id\")\n",
    "plt.tight_layout()\n",
    "plt.show()"
   ]
  },
  {
   "cell_type": "code",
   "execution_count": null,
   "id": "35",
   "metadata": {},
   "outputs": [],
   "source": []
  },
  {
   "cell_type": "code",
   "execution_count": null,
   "id": "36",
   "metadata": {},
   "outputs": [],
   "source": [
    "sub = df_long.query(\n",
    "    \"gear_fault_desc in ['No fault','missing tooth'] and combo == '8.33203125 / 0'\"\n",
    ")\n",
    "\n",
    "# Gemeinsame Bin-Kanten und Range für alle Figuren\n",
    "xmin, xmax = float(sub[\"value\"].min()), float(sub[\"value\"].max())\n",
    "bins = 200\n",
    "bw = (xmax - xmin) / bins\n",
    "\n",
    "fig = px.histogram(\n",
    "    sub,\n",
    "    x=\"value\",\n",
    "    color=\"gear_fault_desc\",               # No fault vs. Missing tooth\n",
    "    facet_col=\"sensor\",\n",
    "    nbins=bins,\n",
    "    barmode=\"overlay\",\n",
    "    opacity=0.55,\n",
    "    histnorm = None,\n",
    "    category_orders={\"gear_fault_desc\": [\"No fault\",\"missing tooth\"]}\n",
    ")\n",
    "fig.update_traces(xbins=dict(start=xmin, end=xmax, size=bw))\n",
    "fig.update_xaxes(range=[xmin, xmax], matches=None)\n",
    "fig.for_each_annotation(lambda a: a.update(text=a.text.replace(\"sensor=\", \"\")))\n",
    "fig.update_layout(title=\"No fault vs. Missing tooth — combo 8.33203125 / 0\")\n",
    "fig.show()"
   ]
  }
 ],
 "metadata": {
  "kernelspec": {
   "display_name": "Python [conda env:base] *",
   "language": "python",
   "name": "conda-base-py"
  },
  "language_info": {
   "codemirror_mode": {
    "name": "ipython",
    "version": 3
   },
   "file_extension": ".py",
   "mimetype": "text/x-python",
   "name": "python",
   "nbconvert_exporter": "python",
   "pygments_lexer": "ipython3",
   "version": "3.12.7"
  }
 },
 "nbformat": 4,
 "nbformat_minor": 5
}
